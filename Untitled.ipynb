{
 "cells": [
  {
   "cell_type": "code",
   "execution_count": 1,
   "id": "28ee9cef-e4a1-4496-8699-b4d8ba7ccbf9",
   "metadata": {},
   "outputs": [
    {
     "name": "stdout",
     "output_type": "stream",
     "text": [
      "Monitoring temperature: 40.0°C\n",
      "Warning: High temperature detected!\n",
      "Monitoring humidity: 15.0%\n",
      "Warning: Low humidity detected!\n",
      "Monitoring soil moisture: 25.0%\n",
      "Warning: Low soil moisture detected!\n"
     ]
    }
   ],
   "source": [
    "class EnvironmentalMonitor:\n",
    "    def monitor(self, temperature: float = None, humidity: float = None, soil_moisture: float = None):\n",
    "        if temperature is not None:\n",
    "            self.monitor_temperature(temperature)\n",
    "        if humidity is not None:\n",
    "            self.monitor_humidity(humidity)\n",
    "        if soil_moisture is not None:\n",
    "            self.monitor_soil_moisture(soil_moisture)\n",
    "\n",
    "    def monitor_temperature(self, temperature: float):\n",
    "        print(f\"Monitoring temperature: {temperature}°C\")\n",
    "        if temperature > 35:\n",
    "            print(\"Warning: High temperature detected!\")\n",
    "\n",
    "    def monitor_humidity(self, humidity: float):\n",
    "        print(f\"Monitoring humidity: {humidity}%\")\n",
    "        if humidity < 20:\n",
    "            print(\"Warning: Low humidity detected!\")\n",
    "\n",
    "    def monitor_soil_moisture(self, soil_moisture: float):\n",
    "        print(f\"Monitoring soil moisture: {soil_moisture}%\")\n",
    "        if soil_moisture < 30:\n",
    "            print(\"Warning: Low soil moisture detected!\")\n",
    "\n",
    "# Create an instance of EnvironmentalMonitor\n",
    "monitor = EnvironmentalMonitor()\n",
    "\n",
    "# Simulated environmental data for demonstration\n",
    "monitor.monitor(temperature=40.0)  # High temperature\n",
    "monitor.monitor(humidity=15.0)      # Low humidity\n",
    "monitor.monitor(soil_moisture=25.0) # Low soil moisture"
   ]
  },
  {
   "cell_type": "code",
   "execution_count": null,
   "id": "12430fec-1cce-4a33-8e40-0af71a07709c",
   "metadata": {},
   "outputs": [],
   "source": []
  }
 ],
 "metadata": {
  "kernelspec": {
   "display_name": "Python 3 (ipykernel)",
   "language": "python",
   "name": "python3"
  },
  "language_info": {
   "codemirror_mode": {
    "name": "ipython",
    "version": 3
   },
   "file_extension": ".py",
   "mimetype": "text/x-python",
   "name": "python",
   "nbconvert_exporter": "python",
   "pygments_lexer": "ipython3",
   "version": "3.11.7"
  }
 },
 "nbformat": 4,
 "nbformat_minor": 5
}
